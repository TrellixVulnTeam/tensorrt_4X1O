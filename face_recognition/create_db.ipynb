{
 "cells": [
  {
   "cell_type": "code",
   "execution_count": 1,
   "metadata": {},
   "outputs": [],
   "source": [
    "!pip install -q mtcnn onnx onnxruntime"
   ]
  },
  {
   "cell_type": "code",
   "execution_count": 2,
   "metadata": {},
   "outputs": [
    {
     "name": "stderr",
     "output_type": "stream",
     "text": [
      "Using TensorFlow backend.\n"
     ]
    }
   ],
   "source": [
    "import os\n",
    "import cv2\n",
    "import pickle\n",
    "import numpy as np\n",
    "import pandas as pd\n",
    "from mtcnn import MTCNN\n",
    "import onnxruntime as ort\n",
    "import matplotlib.pyplot as plt\n",
    "from skimage import transform as trans"
   ]
  },
  {
   "cell_type": "code",
   "execution_count": 3,
   "metadata": {},
   "outputs": [],
   "source": [
    "def normalize(arr: np.array):\n",
    "    x_norm = np.linalg.norm(arr, axis=1, keepdims=True)\n",
    "    arr = arr/x_norm\n",
    "    return arr"
   ]
  },
  {
   "cell_type": "code",
   "execution_count": 4,
   "metadata": {},
   "outputs": [],
   "source": [
    "def load_data(folder_path):\n",
    "    names = os.listdir(folder_path)\n",
    "    if '.ipynb_checkpoints' in names:\n",
    "        names.remove(\".ipynb_checkpoints\")\n",
    "    data = {}\n",
    "    total_face = 0\n",
    "    for roots, dirs, files in os.walk(folder_path):\n",
    "        if roots.find(\".ipynb_checkpoints\") == -1:\n",
    "            name = roots.split('/')[-1]\n",
    "            if name in names: \n",
    "                data[name] = []\n",
    "                for file in files:\n",
    "                    total_face += 1\n",
    "                    data[name].append(os.path.join(roots, file))\n",
    "    print('total face:', total_face)\n",
    "    return data"
   ]
  },
  {
   "cell_type": "code",
   "execution_count": 5,
   "metadata": {},
   "outputs": [],
   "source": [
    "def aligned_face(img, landmark):\n",
    "    src = np.array([\n",
    "        [30.2946, 51.6963],\n",
    "        [65.5318, 51.5014],\n",
    "        [48.0252, 71.7366],\n",
    "        [33.5493, 92.3655],\n",
    "        [62.7299, 92.2041] ], dtype=np.float32)\n",
    "    dst = np.array(landmark, dtype=np.float32).reshape(5, 2)\n",
    "    tform = trans.SimilarityTransform()\n",
    "    tform.estimate(dst, src)\n",
    "    M = tform.params[0:2,:]\n",
    "    aligned = cv2.warpAffine(img, M, (112, 112), borderValue = 0)\n",
    "    return aligned"
   ]
  },
  {
   "cell_type": "code",
   "execution_count": 6,
   "metadata": {},
   "outputs": [],
   "source": [
    "def face_encodings(extractor, img):\n",
    "    img = img.transpose((2, 0, 1))\n",
    "    inputs = np.expand_dims(img, axis=0)\n",
    "    input_name = extractor.get_inputs()[0].name\n",
    "    embedding = extractor.run(None, {input_name: inputs})[0]\n",
    "    outputs = normalize(embedding).flatten()\n",
    "    return outputs"
   ]
  },
  {
   "cell_type": "code",
   "execution_count": 7,
   "metadata": {},
   "outputs": [
    {
     "name": "stdout",
     "output_type": "stream",
     "text": [
      "total face: 28\n"
     ]
    }
   ],
   "source": [
    "# load face data from database\n",
    "folder_path = 'database'\n",
    "data = load_data(folder_path)"
   ]
  },
  {
   "cell_type": "code",
   "execution_count": 8,
   "metadata": {},
   "outputs": [],
   "source": [
    "# load MTCNN detector\n",
    "detector = MTCNN()\n",
    "# load mobilefacenet model\n",
    "onnx_path = \"mobilefacenet/mobilefacenet.onnx\"\n",
    "extractor = ort.InferenceSession(onnx_path)"
   ]
  },
  {
   "cell_type": "code",
   "execution_count": 9,
   "metadata": {},
   "outputs": [
    {
     "name": "stdout",
     "output_type": "stream",
     "text": [
      "database/TsaiIngWen/TsaiIngWen1.png\n",
      "database/TsaiIngWen/TsaiIngWen4.jpg\n",
      "database/TsaiIngWen/TsaiIngWen3.jpg\n",
      "database/TsaiIngWen/TsaiIngWen2.jpg\n",
      "database/WangShihChien/WangShihChien4.jpg\n",
      "database/WangShihChien/WangShihChien1.jpg\n",
      "database/WangShihChien/WangShihChien3.jpg\n",
      "database/WangShihChien/WangShihChien2.jpg\n",
      "database/MaYingJeou/MaYingJeou3.jpg\n",
      "database/MaYingJeou/MaYingJeou4.jpg\n",
      "database/MaYingJeou/MaYingJeou2.jpg\n",
      "database/MaYingJeou/MaYingJeou1.jpg\n",
      "database/ChenShihChung/ChenShihChung1.jpg\n",
      "database/ChenShihChung/ChenShihChung3.jpg\n",
      "database/ChenShihChung/ChenShihChung2.jpg\n",
      "database/ChenShihChung/ChenShihChung4.jpg\n",
      "database/Trump/Trump4.jpg\n",
      "database/Trump/Trump1.jpg\n",
      "database/Trump/Trump3.jpg\n",
      "database/Trump/Trump2.jpg\n",
      "database/Biden/Biden3.jpg\n",
      "database/Biden/Biden4.jpg\n",
      "database/Biden/Biden1.jpeg\n",
      "database/Biden/Biden2.jpg\n",
      "database/HanKuoYu/HanKuoYu1.jpg\n",
      "database/HanKuoYu/HanKuoYu4.jpg\n",
      "database/HanKuoYu/HanKuoYu3.jpg\n",
      "database/HanKuoYu/HanKuoYu2.jpg\n"
     ]
    }
   ],
   "source": [
    "allembeddings = np.zeros([len(data), 128])\n",
    "for j, name in enumerate(data.keys()):\n",
    "    embeddings = np.zeros([len(data[name]), 128])\n",
    "    for i, file in enumerate(data[name]):\n",
    "        print(file)\n",
    "        imgBGR = cv2.imread(file, cv2.IMREAD_COLOR).astype('float32')\n",
    "        imgRGB = cv2.cvtColor(imgBGR, cv2.COLOR_BGR2RGB)\n",
    "        detection = detector.detect_faces(imgRGB)[0]\n",
    "        landmark = np.array(list(detection['keypoints'].values()))\n",
    "        aligned = aligned_face(imgRGB, landmark)\n",
    "        embeddings[i] = face_encodings(extractor, aligned)\n",
    "    allembeddings[j] = embeddings.mean(0)"
   ]
  },
  {
   "cell_type": "code",
   "execution_count": 10,
   "metadata": {},
   "outputs": [],
   "source": [
    "db = {'names': list(data.keys()), 'embeddings': allembeddings}\n",
    "with open('db.pkl', 'wb') as file:\n",
    "    pickle.dump(db, file)"
   ]
  },
  {
   "cell_type": "code",
   "execution_count": null,
   "metadata": {},
   "outputs": [],
   "source": []
  }
 ],
 "metadata": {
  "kernelspec": {
   "display_name": "Python 3",
   "language": "python",
   "name": "python3"
  },
  "language_info": {
   "codemirror_mode": {
    "name": "ipython",
    "version": 3
   },
   "file_extension": ".py",
   "mimetype": "text/x-python",
   "name": "python",
   "nbconvert_exporter": "python",
   "pygments_lexer": "ipython3",
   "version": "3.7.6"
  }
 },
 "nbformat": 4,
 "nbformat_minor": 4
}
