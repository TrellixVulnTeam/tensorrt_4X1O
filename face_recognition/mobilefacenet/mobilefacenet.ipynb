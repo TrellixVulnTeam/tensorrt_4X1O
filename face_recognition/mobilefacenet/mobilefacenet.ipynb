{
 "cells": [
  {
   "cell_type": "markdown",
   "metadata": {},
   "source": [
    "# 下載 Pretrained model\n",
    "https://github.com/deepinsight/insightface/wiki/Model-Zoo#34-mobilefacenetarcfacems1m-refine-v1"
   ]
  },
  {
   "cell_type": "code",
   "execution_count": 5,
   "metadata": {},
   "outputs": [
    {
     "name": "stdout",
     "output_type": "stream",
     "text": [
      "--2020-11-05 16:52:28--  https://www.dropbox.com/s/akxeqp99jvsd6z7/model-MobileFaceNet-arcface-ms1m-refine-v1.zip\n",
      "Resolving www.dropbox.com (www.dropbox.com)... 162.125.80.1, 2620:100:6030:1::a27d:5001\n",
      "Connecting to www.dropbox.com (www.dropbox.com)|162.125.80.1|:443... connected.\n",
      "HTTP request sent, awaiting response... 301 Moved Permanently\n",
      "Location: /s/raw/akxeqp99jvsd6z7/model-MobileFaceNet-arcface-ms1m-refine-v1.zip [following]\n",
      "--2020-11-05 16:52:28--  https://www.dropbox.com/s/raw/akxeqp99jvsd6z7/model-MobileFaceNet-arcface-ms1m-refine-v1.zip\n",
      "Reusing existing connection to www.dropbox.com:443.\n",
      "HTTP request sent, awaiting response... 302 Found\n",
      "Location: https://ucbaa0c510cdd19ab8ed8fe2332a.dl.dropboxusercontent.com/cd/0/inline/BCkk5e9bCWBA5XQ3PLEZYl5Hx9999MW4lZGghYsygS6KNj24sbdFqHR7jg0maS5in7ovpy5zNnzgpR2IcySAaJk8FSYJ1WDwFkcoXlMQFWmweQ/file# [following]\n",
      "--2020-11-05 16:52:29--  https://ucbaa0c510cdd19ab8ed8fe2332a.dl.dropboxusercontent.com/cd/0/inline/BCkk5e9bCWBA5XQ3PLEZYl5Hx9999MW4lZGghYsygS6KNj24sbdFqHR7jg0maS5in7ovpy5zNnzgpR2IcySAaJk8FSYJ1WDwFkcoXlMQFWmweQ/file\n",
      "Resolving ucbaa0c510cdd19ab8ed8fe2332a.dl.dropboxusercontent.com (ucbaa0c510cdd19ab8ed8fe2332a.dl.dropboxusercontent.com)... 162.125.80.15, 2620:100:6030:15::a27d:500f\n",
      "Connecting to ucbaa0c510cdd19ab8ed8fe2332a.dl.dropboxusercontent.com (ucbaa0c510cdd19ab8ed8fe2332a.dl.dropboxusercontent.com)|162.125.80.15|:443... connected.\n",
      "HTTP request sent, awaiting response... 302 Found\n",
      "Location: /cd/0/inline2/BCn9H3eh-rIMqeC94C_3ATeSSLty1MbR9HvsWYxWU8PEzDkaZ9a3IlDKyMFPhoS7zsln8vIh7Jm6LIVSK06R0gu3Wa6xoQXlxEuo7nBlQ_v5vcMHx1gryEbAMwYwZPwz10q7EibhPbAacbEOGrQRd2w3Xc9CbOJX3S88GsUdk5qpMXhk-xFvHPBtQxtKfucJR6ufq1Ah6ZUknkFw0zHQahocaJv6i8w6_gCXo17MOt0cEyxxpe_evyH0KA8uNmOhcKix1cYafMTibAVHQMjfNzDaI69kLkDK8-YRGVYb6syk7cckZnOP_tL886APbg5ePJkUeieeI5YTZIVXV0byZ2P1/file [following]\n",
      "--2020-11-05 16:52:29--  https://ucbaa0c510cdd19ab8ed8fe2332a.dl.dropboxusercontent.com/cd/0/inline2/BCn9H3eh-rIMqeC94C_3ATeSSLty1MbR9HvsWYxWU8PEzDkaZ9a3IlDKyMFPhoS7zsln8vIh7Jm6LIVSK06R0gu3Wa6xoQXlxEuo7nBlQ_v5vcMHx1gryEbAMwYwZPwz10q7EibhPbAacbEOGrQRd2w3Xc9CbOJX3S88GsUdk5qpMXhk-xFvHPBtQxtKfucJR6ufq1Ah6ZUknkFw0zHQahocaJv6i8w6_gCXo17MOt0cEyxxpe_evyH0KA8uNmOhcKix1cYafMTibAVHQMjfNzDaI69kLkDK8-YRGVYb6syk7cckZnOP_tL886APbg5ePJkUeieeI5YTZIVXV0byZ2P1/file\n",
      "Reusing existing connection to ucbaa0c510cdd19ab8ed8fe2332a.dl.dropboxusercontent.com:443.\n",
      "HTTP request sent, awaiting response... 200 OK\n",
      "Length: 3911771 (3.7M) [application/zip]\n",
      "Saving to: ‘model-MobileFaceNet-arcface-ms1m-refine-v1.zip’\n",
      "\n",
      "model-MobileFaceNet 100%[===================>]   3.73M  5.79MB/s    in 0.6s    \n",
      "\n",
      "2020-11-05 16:52:32 (5.79 MB/s) - ‘model-MobileFaceNet-arcface-ms1m-refine-v1.zip’ saved [3911771/3911771]\n",
      "\n",
      "Archive:  model-MobileFaceNet-arcface-ms1m-refine-v1.zip\n",
      "   creating: model-y1-test2/\n",
      "  inflating: model-y1-test2/model-symbol.json  \n",
      "  inflating: model-y1-test2/log      \n",
      "  inflating: model-y1-test2/model-0000.params  \n"
     ]
    }
   ],
   "source": [
    "!wget https://www.dropbox.com/s/akxeqp99jvsd6z7/model-MobileFaceNet-arcface-ms1m-refine-v1.zip\n",
    "!unzip model-MobileFaceNet-arcface-ms1m-refine-v1.zip \n",
    "!rm model-MobileFaceNet-arcface-ms1m-refine-v1.zip"
   ]
  },
  {
   "cell_type": "code",
   "execution_count": 3,
   "metadata": {},
   "outputs": [],
   "source": [
    "!pip install -q onnx==1.2.1\n",
    "!pip install -q --user mxnet==1.5.1"
   ]
  },
  {
   "cell_type": "markdown",
   "metadata": {},
   "source": [
    "### 安裝完須重啟 kernel\n",
    "由於我們使用 --user mxnet 安裝，因此會裝在 ~/.local/lib/python3.7/site-packages 裡，方便我們修改這兩個檔案\n",
    "- mxnet/contrib/onnx/mx2onnx/_op_translations.py\n",
    "- mxnet/contrib/onnx/onnx2mx/_op_translations.py"
   ]
  },
  {
   "cell_type": "code",
   "execution_count": 1,
   "metadata": {},
   "outputs": [],
   "source": [
    "!cp -rf mx2onnx/_op_translations.py ~/.local/lib/python3.7/site-packages/mxnet/contrib/onnx/mx2onnx\n",
    "!cp -rf onnx2mx/_op_translations.py ~/.local/lib/python3.7/site-packages/mxnet/contrib/onnx/onnx2mx"
   ]
  },
  {
   "cell_type": "code",
   "execution_count": 2,
   "metadata": {},
   "outputs": [],
   "source": [
    "import cv2\n",
    "import mxnet as mx\n",
    "import numpy as np\n",
    "from mxnet.contrib import onnx as onnx_mxnet\n",
    "import logging\n",
    "logging.basicConfig(level=logging.INFO)"
   ]
  },
  {
   "cell_type": "code",
   "execution_count": 3,
   "metadata": {},
   "outputs": [],
   "source": [
    "sym = 'model-y1-test2/model-symbol.json'\n",
    "params = 'model-y1-test2/model-0000.params'\n",
    "input_shape = (1, 3, 112, 112)\n",
    "onnx_file = './mobilefacenet.onnx'"
   ]
  },
  {
   "cell_type": "code",
   "execution_count": 6,
   "metadata": {},
   "outputs": [
    {
     "name": "stderr",
     "output_type": "stream",
     "text": [
      "INFO:root:Converting json and weight file to sym and params\n",
      "INFO:root:Input shape of the model [(1, 3, 112, 112)] \n",
      "INFO:root:Exported ONNX file ./mobilefacenet.onnx saved to disk\n"
     ]
    }
   ],
   "source": [
    "converted_model_path = onnx_mxnet.export_model(sym, params, [input_shape], np.float32, onnx_file)"
   ]
  },
  {
   "cell_type": "code",
   "execution_count": 7,
   "metadata": {},
   "outputs": [],
   "source": [
    "import onnx\n",
    "import onnxruntime as rt\n",
    "from onnx import checker\n",
    "\n",
    "# Load onnx model\n",
    "model = onnx.load_model(converted_model_path)\n",
    "\n",
    "# Check if converted ONNX protobuf is valid\n",
    "checker.check_graph(model.graph)"
   ]
  },
  {
   "cell_type": "code",
   "execution_count": 8,
   "metadata": {},
   "outputs": [],
   "source": [
    "sess = rt.InferenceSession(converted_model_path)"
   ]
  },
  {
   "cell_type": "code",
   "execution_count": 9,
   "metadata": {},
   "outputs": [
    {
     "name": "stdout",
     "output_type": "stream",
     "text": [
      "input name data\n",
      "input shape [1, 3, 112, 112]\n",
      "input type tensor(float)\n"
     ]
    }
   ],
   "source": [
    "input_name = sess.get_inputs()[0].name\n",
    "print(\"input name\", input_name)\n",
    "input_shape = sess.get_inputs()[0].shape\n",
    "print(\"input shape\", input_shape)\n",
    "input_type = sess.get_inputs()[0].type\n",
    "print(\"input type\", input_type)"
   ]
  },
  {
   "cell_type": "code",
   "execution_count": 10,
   "metadata": {},
   "outputs": [
    {
     "name": "stdout",
     "output_type": "stream",
     "text": [
      "output name fc1\n",
      "output shape [1, 128]\n",
      "output type tensor(float)\n"
     ]
    }
   ],
   "source": [
    "output_name = sess.get_outputs()[0].name\n",
    "print(\"output name\", output_name)\n",
    "output_shape = sess.get_outputs()[0].shape\n",
    "print(\"output shape\", output_shape)\n",
    "output_type = sess.get_outputs()[0].type\n",
    "print(\"output type\", output_type)"
   ]
  },
  {
   "cell_type": "code",
   "execution_count": 11,
   "metadata": {},
   "outputs": [
    {
     "name": "stdout",
     "output_type": "stream",
     "text": [
      "[array([[ 0.01577088, -0.41153952, -0.07544725,  0.7216799 , -0.1290518 ,\n",
      "         0.07569689, -0.16506198, -0.1542044 ,  0.04309328, -0.21662244,\n",
      "         0.04711505,  0.11998217, -0.23235516, -0.36025846, -0.17884608,\n",
      "        -0.13206078,  0.16468489,  0.25729367, -0.32697445, -0.10646572,\n",
      "        -0.02304216, -0.4696744 , -0.09949888,  0.13706475, -0.13745508,\n",
      "         0.26182014, -0.2015687 ,  0.13166358, -0.23082791,  0.19544603,\n",
      "         0.10573763, -0.0872464 , -0.04051244,  0.24559316,  0.18936524,\n",
      "         0.15481204, -0.27061376,  0.53524226,  0.5201192 , -0.34306094,\n",
      "        -0.5053572 ,  0.45167515,  0.3159355 ,  0.01370022, -0.2678917 ,\n",
      "        -0.14117633, -0.03223775,  0.37744275, -0.4613757 , -0.13261105,\n",
      "        -0.02520673, -0.73135436, -0.5750462 ,  0.0397728 , -0.006244  ,\n",
      "        -0.23068933,  0.06726556,  0.04545179, -0.07261792, -0.01804775,\n",
      "        -0.0401057 ,  0.05102379,  0.43539938, -0.25982893, -0.23811403,\n",
      "         0.42094254, -0.05543632, -0.21422154, -0.14272493, -0.02636459,\n",
      "         0.6507292 , -0.13858803, -0.18946102, -0.25103316,  0.04547329,\n",
      "         0.35958722,  0.11979381, -0.15858261,  0.01063482, -0.38182482,\n",
      "        -0.43368763,  0.20553076,  0.07245111, -0.20149949, -0.0731222 ,\n",
      "        -0.27295092,  0.13131848,  0.21877337, -0.28455937,  0.12794109,\n",
      "         0.00518538,  0.06768318,  0.14637083,  0.11421867,  0.09542233,\n",
      "         0.43104148,  0.19237131, -0.48257375, -0.7028209 , -0.52796876,\n",
      "        -0.46924612, -0.30153835, -0.02476816,  0.4842727 ,  0.2335032 ,\n",
      "         0.20764135,  0.28131494,  0.1435723 ,  0.18604636, -0.23153992,\n",
      "         0.10533805,  0.22200087,  0.43321538, -0.0487348 ,  0.6020143 ,\n",
      "         0.34346238,  0.51652783, -0.23158818,  0.14421336, -0.21970189,\n",
      "        -0.5189988 , -0.1374087 , -0.19907783,  0.13587566, -0.26568922,\n",
      "         0.07070968, -0.32744187,  0.43030384]], dtype=float32)]\n"
     ]
    }
   ],
   "source": [
    "x = np.random.random([1, 3, 112, 112]).astype(np.float32)\n",
    "res = sess.run([output_name], {input_name: x})\n",
    "print(res)"
   ]
  },
  {
   "cell_type": "code",
   "execution_count": null,
   "metadata": {},
   "outputs": [],
   "source": []
  }
 ],
 "metadata": {
  "kernelspec": {
   "display_name": "Python 3",
   "language": "python",
   "name": "python3"
  },
  "language_info": {
   "codemirror_mode": {
    "name": "ipython",
    "version": 3
   },
   "file_extension": ".py",
   "mimetype": "text/x-python",
   "name": "python",
   "nbconvert_exporter": "python",
   "pygments_lexer": "ipython3",
   "version": "3.7.6"
  }
 },
 "nbformat": 4,
 "nbformat_minor": 4
}
