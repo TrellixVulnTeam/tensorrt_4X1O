{
 "cells": [
  {
   "cell_type": "markdown",
   "metadata": {},
   "source": [
    "# RetinaFace \n",
    "https://github.com/biubug6/Pytorch_Retinaface <br>\n",
    "https://github.com/bubbliiiing/retinaface-tf2"
   ]
  },
  {
   "cell_type": "markdown",
   "metadata": {},
   "source": [
    "## 下載 wider face dataset"
   ]
  },
  {
   "cell_type": "code",
   "execution_count": null,
   "metadata": {},
   "outputs": [],
   "source": [
    "!pip install -q gdown"
   ]
  },
  {
   "cell_type": "code",
   "execution_count": null,
   "metadata": {},
   "outputs": [],
   "source": [
    "!gdown https://drive.google.com/uc?id=11UGV3nbVv1x9IC--_tK3Uxf7hA6rlbsS -O data/widerface.zip"
   ]
  },
  {
   "cell_type": "code",
   "execution_count": null,
   "metadata": {},
   "outputs": [],
   "source": [
    "!cd data; unzip widerface.zip\n",
    "!rm data/widerface.zip"
   ]
  },
  {
   "cell_type": "markdown",
   "metadata": {},
   "source": [
    "## 導入套件"
   ]
  },
  {
   "cell_type": "code",
   "execution_count": 1,
   "metadata": {},
   "outputs": [],
   "source": [
    "import numpy as np\n",
    "import tensorflow as tf\n",
    "from tensorflow import keras\n",
    "from nets.retinaface import Retinaface\n",
    "from nets.retinanet_training import Generator\n",
    "from nets.retinanet_training import conf_loss, box_smooth_l1, ldm_smooth_l1\n",
    "from tensorflow.keras.callbacks import ModelCheckpoint, ReduceLROnPlateau, EarlyStopping\n",
    "from utils.utils import Anchors, BBoxUtility\n",
    "from utils.config import cfg_mnet"
   ]
  },
  {
   "cell_type": "code",
   "execution_count": 2,
   "metadata": {},
   "outputs": [],
   "source": [
    "training_dataset_path = './data/widerface/train/label.txt'\n",
    "cfg = cfg_mnet\n",
    "\n",
    "# 根據 cfg 獲得 anchors 與 bbox_util 工具箱\n",
    "anchors = Anchors(cfg).get_anchors()\n",
    "bbox_util = BBoxUtility(anchors)"
   ]
  },
  {
   "cell_type": "code",
   "execution_count": 3,
   "metadata": {},
   "outputs": [],
   "source": [
    "# 訓練參數設置\n",
    "checkpoint = ModelCheckpoint('model_data/best_model.h5',\n",
    "                             monitor='loss', save_best_only=True)\n",
    "reduce_lr = ReduceLROnPlateau(monitor='loss', factor=0.5, patience=2, verbose=1)\n",
    "early_stopping = EarlyStopping(monitor='loss', min_delta=0, patience=6, verbose=1)"
   ]
  },
  {
   "cell_type": "code",
   "execution_count": 4,
   "metadata": {},
   "outputs": [],
   "source": [
    "batch_size = 32\n",
    "learning_rate = 1e-4\n",
    "epochs = 100"
   ]
  },
  {
   "cell_type": "code",
   "execution_count": 5,
   "metadata": {},
   "outputs": [],
   "source": [
    "# 根據 cfg 創建 Retinaface network\n",
    "model = Retinaface(cfg)"
   ]
  },
  {
   "cell_type": "code",
   "execution_count": 6,
   "metadata": {},
   "outputs": [],
   "source": [
    "model.compile(loss={\n",
    "                    'bbox_reg'  : box_smooth_l1(),\n",
    "                    'cls'       : conf_loss(),\n",
    "                    'landm_reg' : ldm_smooth_l1()},\n",
    "              optimizer=keras.optimizers.Adam(lr=learning_rate)\n",
    "        )"
   ]
  },
  {
   "cell_type": "code",
   "execution_count": 7,
   "metadata": {},
   "outputs": [
    {
     "ename": "FileNotFoundError",
     "evalue": "[Errno 2] No such file or directory: './data/widerface/train/label.txt'",
     "output_type": "error",
     "traceback": [
      "\u001b[0;31m---------------------------------------------------------------------------\u001b[0m",
      "\u001b[0;31mFileNotFoundError\u001b[0m                         Traceback (most recent call last)",
      "\u001b[0;32m<ipython-input-7-38240f04c6d0>\u001b[0m in \u001b[0;36m<module>\u001b[0;34m\u001b[0m\n\u001b[1;32m      1\u001b[0m \u001b[0;31m# 獲得 data 產生器\u001b[0m\u001b[0;34m\u001b[0m\u001b[0;34m\u001b[0m\u001b[0;34m\u001b[0m\u001b[0m\n\u001b[0;32m----> 2\u001b[0;31m \u001b[0mgen\u001b[0m \u001b[0;34m=\u001b[0m \u001b[0mGenerator\u001b[0m\u001b[0;34m(\u001b[0m\u001b[0mtraining_dataset_path\u001b[0m\u001b[0;34m,\u001b[0m \u001b[0mcfg\u001b[0m\u001b[0;34m[\u001b[0m\u001b[0;34m'image_size'\u001b[0m\u001b[0;34m]\u001b[0m\u001b[0;34m,\u001b[0m \u001b[0mbatch_size\u001b[0m\u001b[0;34m,\u001b[0m \u001b[0mbbox_util\u001b[0m\u001b[0;34m)\u001b[0m\u001b[0;34m\u001b[0m\u001b[0;34m\u001b[0m\u001b[0m\n\u001b[0m",
      "\u001b[0;32m~/face_recognition/retinaface/nets/retinanet_training.py\u001b[0m in \u001b[0;36m__init__\u001b[0;34m(self, txt_path, img_size, batch_size, bbox_util)\u001b[0m\n\u001b[1;32m    203\u001b[0m         \u001b[0mself\u001b[0m\u001b[0;34m.\u001b[0m\u001b[0mtxt_path\u001b[0m \u001b[0;34m=\u001b[0m \u001b[0mtxt_path\u001b[0m\u001b[0;34m\u001b[0m\u001b[0;34m\u001b[0m\u001b[0m\n\u001b[1;32m    204\u001b[0m         \u001b[0mself\u001b[0m\u001b[0;34m.\u001b[0m\u001b[0mbatch_size\u001b[0m \u001b[0;34m=\u001b[0m \u001b[0mbatch_size\u001b[0m\u001b[0;34m\u001b[0m\u001b[0;34m\u001b[0m\u001b[0m\n\u001b[0;32m--> 205\u001b[0;31m         \u001b[0mself\u001b[0m\u001b[0;34m.\u001b[0m\u001b[0mimgs_path\u001b[0m\u001b[0;34m,\u001b[0m \u001b[0mself\u001b[0m\u001b[0;34m.\u001b[0m\u001b[0mwords\u001b[0m \u001b[0;34m=\u001b[0m \u001b[0mself\u001b[0m\u001b[0;34m.\u001b[0m\u001b[0mprocess_labels\u001b[0m\u001b[0;34m(\u001b[0m\u001b[0;34m)\u001b[0m\u001b[0;34m\u001b[0m\u001b[0;34m\u001b[0m\u001b[0m\n\u001b[0m\u001b[1;32m    206\u001b[0m         \u001b[0mself\u001b[0m\u001b[0;34m.\u001b[0m\u001b[0mbbox_util\u001b[0m \u001b[0;34m=\u001b[0m \u001b[0mbbox_util\u001b[0m\u001b[0;34m\u001b[0m\u001b[0;34m\u001b[0m\u001b[0m\n\u001b[1;32m    207\u001b[0m \u001b[0;34m\u001b[0m\u001b[0m\n",
      "\u001b[0;32m~/face_recognition/retinaface/nets/retinanet_training.py\u001b[0m in \u001b[0;36mprocess_labels\u001b[0;34m(self)\u001b[0m\n\u001b[1;32m    209\u001b[0m         \u001b[0mimgs_path\u001b[0m \u001b[0;34m=\u001b[0m \u001b[0;34m[\u001b[0m\u001b[0;34m]\u001b[0m\u001b[0;34m\u001b[0m\u001b[0;34m\u001b[0m\u001b[0m\n\u001b[1;32m    210\u001b[0m         \u001b[0mwords\u001b[0m \u001b[0;34m=\u001b[0m \u001b[0;34m[\u001b[0m\u001b[0;34m]\u001b[0m\u001b[0;34m\u001b[0m\u001b[0;34m\u001b[0m\u001b[0m\n\u001b[0;32m--> 211\u001b[0;31m         \u001b[0mf\u001b[0m \u001b[0;34m=\u001b[0m \u001b[0mopen\u001b[0m\u001b[0;34m(\u001b[0m\u001b[0mself\u001b[0m\u001b[0;34m.\u001b[0m\u001b[0mtxt_path\u001b[0m\u001b[0;34m,\u001b[0m\u001b[0;34m'r'\u001b[0m\u001b[0;34m)\u001b[0m\u001b[0;34m\u001b[0m\u001b[0;34m\u001b[0m\u001b[0m\n\u001b[0m\u001b[1;32m    212\u001b[0m         \u001b[0mlines\u001b[0m \u001b[0;34m=\u001b[0m \u001b[0mf\u001b[0m\u001b[0;34m.\u001b[0m\u001b[0mreadlines\u001b[0m\u001b[0;34m(\u001b[0m\u001b[0;34m)\u001b[0m\u001b[0;34m\u001b[0m\u001b[0;34m\u001b[0m\u001b[0m\n\u001b[1;32m    213\u001b[0m         \u001b[0misFirst\u001b[0m \u001b[0;34m=\u001b[0m \u001b[0;32mTrue\u001b[0m\u001b[0;34m\u001b[0m\u001b[0;34m\u001b[0m\u001b[0m\n",
      "\u001b[0;31mFileNotFoundError\u001b[0m: [Errno 2] No such file or directory: './data/widerface/train/label.txt'"
     ]
    }
   ],
   "source": [
    "# 獲得 data 產生器\n",
    "gen = Generator(training_dataset_path, cfg['image_size'], batch_size, bbox_util)"
   ]
  },
  {
   "cell_type": "code",
   "execution_count": null,
   "metadata": {},
   "outputs": [
    {
     "name": "stdout",
     "output_type": "stream",
     "text": [
      "Epoch 1/100\n",
      "INFO:tensorflow:batch_all_reduce: 159 all-reduces with algorithm = nccl, num_packs = 1\n",
      "INFO:tensorflow:batch_all_reduce: 159 all-reduces with algorithm = nccl, num_packs = 1\n",
      "25/25 [==============================] - 564s 23s/step - cls_loss: 5.7941 - loss: 28.8047 - landm_reg_loss: 16.3538 - bbox_reg_loss: 6.6568 - lr: 0.0100\n",
      "Epoch 2/100\n",
      "25/25 [==============================] - 570s 23s/step - cls_loss: 3.1816 - loss: 23.3520 - landm_reg_loss: 14.7720 - bbox_reg_loss: 5.3984 - lr: 0.0100\n",
      "Epoch 3/100\n",
      "25/25 [==============================] - 566s 23s/step - cls_loss: 3.0944 - loss: 22.1591 - landm_reg_loss: 14.0454 - bbox_reg_loss: 5.0193 - lr: 0.0100\n",
      "Epoch 4/100\n",
      "25/25 [==============================] - 567s 23s/step - cls_loss: 3.0542 - loss: 20.8801 - landm_reg_loss: 13.1047 - bbox_reg_loss: 4.7212 - lr: 0.0100\n",
      "Epoch 5/100\n",
      "25/25 [==============================] - 567s 23s/step - cls_loss: 2.9875 - loss: 19.8955 - landm_reg_loss: 12.3633 - bbox_reg_loss: 4.5447 - lr: 0.0100\n",
      "Epoch 6/100\n",
      "25/25 [==============================] - 567s 23s/step - cls_loss: 2.9732 - loss: 18.3725 - landm_reg_loss: 11.1428 - bbox_reg_loss: 4.2565 - lr: 0.0100\n",
      "Epoch 7/100\n",
      "25/25 [==============================] - 568s 23s/step - cls_loss: 2.9424 - loss: 16.7597 - landm_reg_loss: 9.8225 - bbox_reg_loss: 3.9947 - lr: 0.0100\n",
      "Epoch 8/100\n",
      "25/25 [==============================] - 569s 23s/step - cls_loss: 2.8652 - loss: 15.2869 - landm_reg_loss: 8.7824 - bbox_reg_loss: 3.6393 - lr: 0.0100\n",
      "Epoch 9/100\n",
      "25/25 [==============================] - 566s 23s/step - cls_loss: 2.7787 - loss: 13.9604 - landm_reg_loss: 7.8619 - bbox_reg_loss: 3.3198 - lr: 0.0100\n",
      "Epoch 10/100\n",
      "25/25 [==============================] - 569s 23s/step - cls_loss: 2.6893 - loss: 13.1222 - landm_reg_loss: 7.3515 - bbox_reg_loss: 3.0814 - lr: 0.0100\n",
      "Epoch 11/100\n",
      "25/25 [==============================] - 567s 23s/step - cls_loss: 2.5994 - loss: 12.3632 - landm_reg_loss: 6.8619 - bbox_reg_loss: 2.9020 - lr: 0.0100\n",
      "Epoch 12/100\n",
      "25/25 [==============================] - 570s 23s/step - cls_loss: 2.5142 - loss: 11.8185 - landm_reg_loss: 6.5494 - bbox_reg_loss: 2.7549 - lr: 0.0100\n",
      "Epoch 13/100\n",
      "25/25 [==============================] - 567s 23s/step - cls_loss: 2.4584 - loss: 11.4639 - landm_reg_loss: 6.3134 - bbox_reg_loss: 2.6922 - lr: 0.0100\n",
      "Epoch 14/100\n",
      "25/25 [==============================] - 567s 23s/step - cls_loss: 2.4082 - loss: 11.1276 - landm_reg_loss: 6.0750 - bbox_reg_loss: 2.6444 - lr: 0.0100\n",
      "Epoch 15/100\n",
      "25/25 [==============================] - 568s 23s/step - cls_loss: 2.3513 - loss: 10.6860 - landm_reg_loss: 5.8411 - bbox_reg_loss: 2.4936 - lr: 0.0100\n",
      "Epoch 16/100\n",
      "25/25 [==============================] - 569s 23s/step - cls_loss: 2.2978 - loss: 10.4896 - landm_reg_loss: 5.7361 - bbox_reg_loss: 2.4557 - lr: 0.0100\n",
      "Epoch 17/100\n",
      "25/25 [==============================] - 567s 23s/step - cls_loss: 2.2770 - loss: 10.3449 - landm_reg_loss: 5.6268 - bbox_reg_loss: 2.4411 - lr: 0.0100\n",
      "Epoch 18/100\n",
      "25/25 [==============================] - 566s 23s/step - cls_loss: 2.2493 - loss: 10.1159 - landm_reg_loss: 5.4987 - bbox_reg_loss: 2.3679 - lr: 0.0100\n",
      "Epoch 19/100\n",
      "25/25 [==============================] - 570s 23s/step - cls_loss: 2.2135 - loss: 9.9098 - landm_reg_loss: 5.3561 - bbox_reg_loss: 2.3403 - lr: 0.0100\n",
      "Epoch 20/100\n",
      "25/25 [==============================] - 566s 23s/step - cls_loss: 2.1912 - loss: 9.7333 - landm_reg_loss: 5.2433 - bbox_reg_loss: 2.2988 - lr: 0.0100\n",
      "Epoch 21/100\n",
      "25/25 [==============================] - 570s 23s/step - cls_loss: 2.1934 - loss: 9.6500 - landm_reg_loss: 5.1663 - bbox_reg_loss: 2.2902 - lr: 0.0100\n",
      "Epoch 22/100\n",
      "25/25 [==============================] - 571s 23s/step - cls_loss: 2.1780 - loss: 9.6526 - landm_reg_loss: 5.1766 - bbox_reg_loss: 2.2980 - lr: 0.0100\n",
      "Epoch 23/100\n",
      "25/25 [==============================] - 567s 23s/step - cls_loss: 2.1564 - loss: 9.4634 - landm_reg_loss: 5.0767 - bbox_reg_loss: 2.2304 - lr: 0.0100\n",
      "Epoch 24/100\n",
      "25/25 [==============================] - 567s 23s/step - cls_loss: 2.1360 - loss: 9.3845 - landm_reg_loss: 5.0350 - bbox_reg_loss: 2.2135 - lr: 0.0100\n",
      "Epoch 25/100\n",
      "25/25 [==============================] - 569s 23s/step - cls_loss: 2.0923 - loss: 9.1895 - landm_reg_loss: 4.9357 - bbox_reg_loss: 2.1615 - lr: 0.0100\n",
      "Epoch 26/100\n",
      "25/25 [==============================] - 568s 23s/step - cls_loss: 2.1294 - loss: 9.3214 - landm_reg_loss: 5.0052 - bbox_reg_loss: 2.1868 - lr: 0.0100\n",
      "Epoch 27/100\n",
      "25/25 [==============================] - 567s 23s/step - cls_loss: 2.0923 - loss: 9.0621 - landm_reg_loss: 4.8405 - bbox_reg_loss: 2.1293 - lr: 0.0100\n",
      "Epoch 28/100\n",
      "25/25 [==============================] - 569s 23s/step - cls_loss: 2.0681 - loss: 9.0657 - landm_reg_loss: 4.8242 - bbox_reg_loss: 2.1734 - lr: 0.0100\n",
      "Epoch 29/100\n",
      "25/25 [==============================] - 569s 23s/step - cls_loss: 2.0734 - loss: 9.0480 - landm_reg_loss: 4.8512 - bbox_reg_loss: 2.1234 - lr: 0.0100\n",
      "Epoch 30/100\n",
      "25/25 [==============================] - 572s 23s/step - cls_loss: 2.0386 - loss: 8.8393 - landm_reg_loss: 4.7336 - bbox_reg_loss: 2.0671 - lr: 0.0100\n",
      "Epoch 31/100\n",
      "25/25 [==============================] - 565s 23s/step - cls_loss: 2.0309 - loss: 8.8448 - landm_reg_loss: 4.7326 - bbox_reg_loss: 2.0812 - lr: 0.0100\n",
      "Epoch 32/100\n",
      "25/25 [==============================] - 570s 23s/step - cls_loss: 2.0313 - loss: 8.7695 - landm_reg_loss: 4.6671 - bbox_reg_loss: 2.0711 - lr: 0.0100\n",
      "Epoch 33/100\n",
      "25/25 [==============================] - 570s 23s/step - cls_loss: 2.0053 - loss: 8.6789 - landm_reg_loss: 4.6273 - bbox_reg_loss: 2.0463 - lr: 0.0100\n",
      "Epoch 34/100\n",
      "25/25 [==============================] - 569s 23s/step - cls_loss: 2.0055 - loss: 8.6289 - landm_reg_loss: 4.5842 - bbox_reg_loss: 2.0392 - lr: 0.0100\n",
      "Epoch 35/100\n",
      "25/25 [==============================] - 565s 23s/step - cls_loss: 2.0148 - loss: 8.7008 - landm_reg_loss: 4.6383 - bbox_reg_loss: 2.0477 - lr: 0.0100\n",
      "Epoch 36/100\n",
      "25/25 [==============================] - 564s 23s/step - cls_loss: 1.9855 - loss: 8.4792 - landm_reg_loss: 4.5085 - bbox_reg_loss: 1.9851 - lr: 0.0100\n",
      "Epoch 37/100\n",
      "25/25 [==============================] - 565s 23s/step - cls_loss: 1.9774 - loss: 8.4249 - landm_reg_loss: 4.4597 - bbox_reg_loss: 1.9877 - lr: 0.0100\n",
      "Epoch 38/100\n",
      "25/25 [==============================] - 567s 23s/step - cls_loss: 1.9859 - loss: 8.4402 - landm_reg_loss: 4.4778 - bbox_reg_loss: 1.9765 - lr: 0.0100\n",
      "Epoch 39/100\n",
      "25/25 [==============================] - 572s 23s/step - cls_loss: 1.9742 - loss: 8.4245 - landm_reg_loss: 4.4723 - bbox_reg_loss: 1.9780 - lr: 0.0100\n",
      "Epoch 40/100\n",
      "25/25 [==============================] - 567s 23s/step - cls_loss: 1.9538 - loss: 8.3282 - landm_reg_loss: 4.4112 - bbox_reg_loss: 1.9633 - lr: 0.0100\n",
      "Epoch 41/100\n",
      "25/25 [==============================] - 566s 23s/step - cls_loss: 1.9581 - loss: 8.3612 - landm_reg_loss: 4.4359 - bbox_reg_loss: 1.9673 - lr: 0.0100\n",
      "Epoch 42/100\n",
      "25/25 [==============================] - 568s 23s/step - cls_loss: 1.9498 - loss: 8.2687 - landm_reg_loss: 4.3666 - bbox_reg_loss: 1.9524 - lr: 0.0100\n",
      "Epoch 43/100\n",
      "25/25 [==============================] - 572s 23s/step - cls_loss: 1.9251 - loss: 8.1832 - landm_reg_loss: 4.3092 - bbox_reg_loss: 1.9489 - lr: 0.0100\n",
      "Epoch 44/100\n",
      "25/25 [==============================] - 566s 23s/step - cls_loss: 1.9066 - loss: 8.1099 - landm_reg_loss: 4.2964 - bbox_reg_loss: 1.9070 - lr: 0.0100\n",
      "Epoch 45/100\n",
      "25/25 [==============================] - 570s 23s/step - cls_loss: 1.9260 - loss: 8.1255 - landm_reg_loss: 4.2995 - bbox_reg_loss: 1.9001 - lr: 0.0100\n",
      "Epoch 46/100\n",
      "25/25 [==============================] - 569s 23s/step - cls_loss: 1.9070 - loss: 8.0983 - landm_reg_loss: 4.2840 - bbox_reg_loss: 1.9074 - lr: 0.0100\n",
      "Epoch 47/100\n",
      "25/25 [==============================] - 567s 23s/step - cls_loss: 1.9094 - loss: 8.0636 - landm_reg_loss: 4.2458 - bbox_reg_loss: 1.9084 - lr: 0.0100\n",
      "Epoch 48/100\n",
      "25/25 [==============================] - 565s 23s/step - cls_loss: 1.9009 - loss: 8.0919 - landm_reg_loss: 4.2971 - bbox_reg_loss: 1.8940 - lr: 0.0100\n",
      "Epoch 49/100\n",
      "25/25 [==============================] - 569s 23s/step - cls_loss: 1.8828 - loss: 7.8924 - landm_reg_loss: 4.1516 - bbox_reg_loss: 1.8581 - lr: 0.0100\n",
      "Epoch 50/100\n",
      "25/25 [==============================] - 568s 23s/step - cls_loss: 1.8968 - loss: 8.0459 - landm_reg_loss: 4.2489 - bbox_reg_loss: 1.9001 - lr: 0.0100\n",
      "Epoch 51/100\n",
      "25/25 [==============================] - ETA: 0s - cls_loss: 1.8908 - loss: 7.9866 - landm_reg_loss: 4.2004 - bbox_reg_loss: 1.8954 \n",
      "Epoch 00051: ReduceLROnPlateau reducing learning rate to 0.004999999888241291.\n",
      "25/25 [==============================] - 569s 23s/step - cls_loss: 1.8908 - loss: 7.9866 - landm_reg_loss: 4.2004 - bbox_reg_loss: 1.8954 - lr: 0.0100\n",
      "Epoch 52/100\n",
      "25/25 [==============================] - 569s 23s/step - cls_loss: 1.8393 - loss: 7.6631 - landm_reg_loss: 4.0227 - bbox_reg_loss: 1.8011 - lr: 0.0050\n",
      "Epoch 53/100\n",
      "25/25 [==============================] - 573s 23s/step - cls_loss: 1.8319 - loss: 7.6441 - landm_reg_loss: 4.0217 - bbox_reg_loss: 1.7905 - lr: 0.0050\n",
      "Epoch 54/100\n",
      "25/25 [==============================] - 568s 23s/step - cls_loss: 1.8247 - loss: 7.5736 - landm_reg_loss: 3.9622 - bbox_reg_loss: 1.7867 - lr: 0.0050\n",
      "Epoch 55/100\n",
      "25/25 [==============================] - 567s 23s/step - cls_loss: 1.8273 - loss: 7.5845 - landm_reg_loss: 3.9821 - bbox_reg_loss: 1.7751 - lr: 0.0050\n",
      "Epoch 56/100\n",
      "25/25 [==============================] - ETA: 0s - cls_loss: 1.8256 - loss: 7.6324 - landm_reg_loss: 4.0172 - bbox_reg_loss: 1.7896 \n",
      "Epoch 00056: ReduceLROnPlateau reducing learning rate to 0.0024999999441206455.\n",
      "25/25 [==============================] - 568s 23s/step - cls_loss: 1.8256 - loss: 7.6324 - landm_reg_loss: 4.0172 - bbox_reg_loss: 1.7896 - lr: 0.0050\n",
      "Epoch 57/100\n",
      " 9/25 [=========>....................] - ETA: 5:34 - cls_loss: 1.7866 - loss: 7.4279 - landm_reg_loss: 3.9105 - bbox_reg_loss: 1.7308"
     ]
    }
   ],
   "source": [
    "model.fit(gen.generate(False), \n",
    "          steps_per_epoch=gen.get_len()//batch_size,\n",
    "          verbose=1,\n",
    "          epochs=epochs,\n",
    "          callbacks=[checkpoint, reduce_lr, early_stopping])"
   ]
  },
  {
   "cell_type": "code",
   "execution_count": 8,
   "metadata": {},
   "outputs": [],
   "source": [
    "# 將最好的 model 權重讀進去\n",
    "model = Retinaface(cfg)\n",
    "model.load_weights('logs/best_model.h5')"
   ]
  },
  {
   "cell_type": "code",
   "execution_count": 20,
   "metadata": {},
   "outputs": [
    {
     "name": "stdout",
     "output_type": "stream",
     "text": [
      "Note: you may need to restart the kernel to use updated packages.\n"
     ]
    }
   ],
   "source": [
    "!pip install -q onnx onnxmltools"
   ]
  },
  {
   "cell_type": "code",
   "execution_count": 8,
   "metadata": {},
   "outputs": [],
   "source": [
    "import onnx\n",
    "import onnxmltools\n",
    "from tensorflow.keras.models import load_model"
   ]
  },
  {
   "cell_type": "code",
   "execution_count": 9,
   "metadata": {},
   "outputs": [
    {
     "name": "stderr",
     "output_type": "stream",
     "text": [
      "tf executing eager_mode: True\n",
      "tf.keras model eager_mode: False\n",
      "The ONNX operator number change on the optimization: 440 -> 129\n",
      "The maximum opset needed by this model is only 11.\n"
     ]
    }
   ],
   "source": [
    "onnx_path = 'retinaface-320.onnx'\n",
    "onnx_model = onnxmltools.convert_keras(model)"
   ]
  },
  {
   "cell_type": "markdown",
   "metadata": {},
   "source": [
    "### 將 Dynamic 的部分改為 固定 batch size 為 1"
   ]
  },
  {
   "cell_type": "code",
   "execution_count": 10,
   "metadata": {},
   "outputs": [
    {
     "data": {
      "text/plain": [
       "[dim_param: \"N\"\n",
       ", dim_value: 320\n",
       ", dim_value: 320\n",
       ", dim_value: 3\n",
       "]"
      ]
     },
     "execution_count": 10,
     "metadata": {},
     "output_type": "execute_result"
    }
   ],
   "source": [
    "onnx_model.graph.input[0].type.tensor_type.shape.dim"
   ]
  },
  {
   "cell_type": "code",
   "execution_count": 11,
   "metadata": {},
   "outputs": [],
   "source": [
    "onnx_model.graph.input[0].type.tensor_type.shape.dim[0].dim_value = 1"
   ]
  },
  {
   "cell_type": "code",
   "execution_count": 12,
   "metadata": {},
   "outputs": [
    {
     "data": {
      "text/plain": [
       "[dim_param: \"N\"\n",
       ", dim_param: \"M1\"\n",
       ", dim_value: 4\n",
       "]"
      ]
     },
     "execution_count": 12,
     "metadata": {},
     "output_type": "execute_result"
    }
   ],
   "source": [
    "onnx_model.graph.output[0].type.tensor_type.shape.dim"
   ]
  },
  {
   "cell_type": "code",
   "execution_count": 13,
   "metadata": {},
   "outputs": [
    {
     "data": {
      "text/plain": [
       "[dim_param: \"N\"\n",
       ", dim_param: \"M2\"\n",
       ", dim_value: 2\n",
       "]"
      ]
     },
     "execution_count": 13,
     "metadata": {},
     "output_type": "execute_result"
    }
   ],
   "source": [
    "onnx_model.graph.output[1].type.tensor_type.shape.dim"
   ]
  },
  {
   "cell_type": "code",
   "execution_count": 14,
   "metadata": {},
   "outputs": [],
   "source": [
    "for output in onnx_model.graph.output:\n",
    "    output.type.tensor_type.shape.dim[0].dim_value = 1\n",
    "    output.type.tensor_type.shape.dim[1].dim_value = anchors.shape[0]"
   ]
  },
  {
   "cell_type": "code",
   "execution_count": 15,
   "metadata": {},
   "outputs": [],
   "source": [
    "onnx.checker.check_model(onnx_model)\n",
    "onnx.save(onnx_model, onnx_path)"
   ]
  },
  {
   "cell_type": "code",
   "execution_count": null,
   "metadata": {},
   "outputs": [],
   "source": []
  }
 ],
 "metadata": {
  "kernelspec": {
   "display_name": "Python 3",
   "language": "python",
   "name": "python3"
  },
  "language_info": {
   "codemirror_mode": {
    "name": "ipython",
    "version": 3
   },
   "file_extension": ".py",
   "mimetype": "text/x-python",
   "name": "python",
   "nbconvert_exporter": "python",
   "pygments_lexer": "ipython3",
   "version": "3.7.6"
  }
 },
 "nbformat": 4,
 "nbformat_minor": 4
}
