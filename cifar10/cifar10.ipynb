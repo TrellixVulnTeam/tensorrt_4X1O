{
 "cells": [
  {
   "cell_type": "markdown",
   "metadata": {
    "colab_type": "text",
    "id": "jVehH4MNhbTP"
   },
   "source": [
    "# train a cifar10 model"
   ]
  },
  {
   "cell_type": "markdown",
   "metadata": {
    "colab_type": "text",
    "id": "98Q6g2Bfu6hB"
   },
   "source": [
    "## 匯入所需套件"
   ]
  },
  {
   "cell_type": "code",
   "execution_count": 1,
   "metadata": {
    "colab": {
     "base_uri": "https://localhost:8080/",
     "height": 34
    },
    "colab_type": "code",
    "executionInfo": {
     "elapsed": 810,
     "status": "ok",
     "timestamp": 1563000671116,
     "user": {
      "displayName": "kinna kinna",
      "photoUrl": "",
      "userId": "09336290170720198249"
     },
     "user_tz": -480
    },
    "id": "C-K6b_vfX3iJ",
    "outputId": "a7acd042-f0b3-425d-e7f4-3bf3bebdfc15"
   },
   "outputs": [],
   "source": [
    "import os\n",
    "import cv2\n",
    "import numpy as np\n",
    "import seaborn as sns\n",
    "import matplotlib.pyplot as plt\n",
    "os.environ[\"CUDA_VISIBLE_DEVICES\"] = \"0\""
   ]
  },
  {
   "cell_type": "code",
   "execution_count": 2,
   "metadata": {},
   "outputs": [
    {
     "name": "stdout",
     "output_type": "stream",
     "text": [
      "[PhysicalDevice(name='/physical_device:GPU:0', device_type='GPU')]\n"
     ]
    }
   ],
   "source": [
    "# Check GPU\n",
    "import tensorflow as tf\n",
    "physical_devices = tf.config.experimental.list_physical_devices('GPU')\n",
    "print(physical_devices)\n",
    "assert len(physical_devices) > 0, \"Not enough GPU hardware devices available\"\n",
    "tf.config.experimental.set_memory_growth(physical_devices[0], True)"
   ]
  },
  {
   "cell_type": "code",
   "execution_count": 3,
   "metadata": {},
   "outputs": [],
   "source": [
    "from tensorflow.keras.models import Model, load_model\n",
    "from tensorflow.keras.layers import (Dense, Dropout, Activation, Flatten,\n",
    "                                     GlobalAveragePooling2D, BatchNormalization)\n",
    "from tensorflow.keras.optimizers import Adam\n",
    "from tensorflow.keras.callbacks import ModelCheckpoint, EarlyStopping, ReduceLROnPlateau\n",
    "from tensorflow.keras.applications.vgg16 import VGG16\n",
    "from tensorflow.keras.utils import plot_model"
   ]
  },
  {
   "cell_type": "markdown",
   "metadata": {
    "colab_type": "text",
    "id": "awautmYIh4a2"
   },
   "source": [
    "## Cifar10 資料讀入及前處理"
   ]
  },
  {
   "cell_type": "code",
   "execution_count": 4,
   "metadata": {
    "colab": {
     "base_uri": "https://localhost:8080/",
     "height": 120
    },
    "colab_type": "code",
    "executionInfo": {
     "elapsed": 9954,
     "status": "ok",
     "timestamp": 1563000737624,
     "user": {
      "displayName": "kinna kinna",
      "photoUrl": "",
      "userId": "09336290170720198249"
     },
     "user_tz": -480
    },
    "id": "IKC4TPyHX5NE",
    "outputId": "92e945b1-6e20-4bf4-b453-7c4035944396"
   },
   "outputs": [],
   "source": [
    "from tensorflow.keras.datasets import cifar10\n",
    "(x_train, y_train), (x_test, y_test) = cifar10.load_data()"
   ]
  },
  {
   "cell_type": "code",
   "execution_count": 5,
   "metadata": {},
   "outputs": [],
   "source": [
    "test_label = y_test.flatten()"
   ]
  },
  {
   "cell_type": "code",
   "execution_count": 6,
   "metadata": {},
   "outputs": [
    {
     "name": "stdout",
     "output_type": "stream",
     "text": [
      "[0 1 2 3 4 5 6 7 8 9] [5000 5000 5000 5000 5000 5000 5000 5000 5000 5000]\n"
     ]
    },
    {
     "data": {
      "image/png": "[encoded data removed]",
      "text/plain": [
       "<Figure size 432x288 with 1 Axes>"
      ]
     },
     "metadata": {
      "needs_background": "light"
     },
     "output_type": "display_data"
    }
   ],
   "source": [
    "uniques, counts = np.unique(y_train, return_counts=True)\n",
    "print(uniques, counts)\n",
    "\n",
    "plt.bar(uniques, counts)\n",
    "plt.xticks(uniques)\n",
    "plt.show()"
   ]
  },
  {
   "cell_type": "code",
   "execution_count": 7,
   "metadata": {},
   "outputs": [
    {
     "name": "stdout",
     "output_type": "stream",
     "text": [
      "[0 1 2 3 4 5 6 7 8 9] [1000 1000 1000 1000 1000 1000 1000 1000 1000 1000]\n"
     ]
    },
    {
     "data": {
      "image/png": "[encoded data removed]",
      "text/plain": [
       "<Figure size 432x288 with 1 Axes>"
      ]
     },
     "metadata": {
      "needs_background": "light"
     },
     "output_type": "display_data"
    }
   ],
   "source": [
    "uniques, counts = np.unique(y_test, return_counts=True)\n",
    "print(uniques, counts)\n",
    "\n",
    "plt.bar(uniques, counts)\n",
    "plt.xticks(uniques)\n",
    "plt.show()"
   ]
  },
  {
   "cell_type": "code",
   "execution_count": 8,
   "metadata": {},
   "outputs": [
    {
     "data": {
      "text/plain": [
       "dtype('uint8')"
      ]
     },
     "execution_count": 8,
     "metadata": {},
     "output_type": "execute_result"
    }
   ],
   "source": [
    "x_train.dtype"
   ]
  },
  {
   "cell_type": "code",
   "execution_count": 9,
   "metadata": {},
   "outputs": [],
   "source": [
    "# 記得轉成 'float32'\n",
    "x_train = x_train.astype('float32')\n",
    "x_test = x_test.astype('float32')\n",
    "\n",
    "# 將 features (照片影像特徵值) 標準化，可以提高模型預測的準確度，並且更快收斂\n",
    "x_train /= 255  # rescaling\n",
    "x_test /= 255   # rescaling\n",
    "\n",
    "# 將訓練資料與測試資料的 label，進行 Onehot encoding 轉換\n",
    "num_classes = 10\n",
    "y_train = np.eye(num_classes, dtype='float32')[y_train[:, 0]]\n",
    "y_test = np.eye(num_classes, dtype='float32')[y_test[:, 0]]"
   ]
  },
  {
   "cell_type": "code",
   "execution_count": 10,
   "metadata": {
    "colab": {
     "base_uri": "https://localhost:8080/",
     "height": 51
    },
    "colab_type": "code",
    "executionInfo": {
     "elapsed": 1064,
     "status": "ok",
     "timestamp": 1563001029180,
     "user": {
      "displayName": "kinna kinna",
      "photoUrl": "",
      "userId": "09336290170720198249"
     },
     "user_tz": -480
    },
    "id": "eSXBilArX8ih",
    "outputId": "b64ed539-6326-47ec-e676-d571a152d947"
   },
   "outputs": [
    {
     "name": "stdout",
     "output_type": "stream",
     "text": [
      "x_train shape: (50000, 32, 32, 3)\n",
      "x_test shape: (10000, 32, 32, 3)\n",
      "y_train shape: (50000, 10)\n",
      "y_test shape: (10000, 10)\n"
     ]
    }
   ],
   "source": [
    "print('x_train shape:', x_train.shape)\n",
    "print('x_test shape:', x_test.shape)\n",
    "print('y_train shape:', y_train.shape)\n",
    "print('y_test shape:', y_test.shape)"
   ]
  },
  {
   "cell_type": "markdown",
   "metadata": {
    "colab_type": "text",
    "id": "rqCH66zEiJ8m"
   },
   "source": [
    "## 模型定義"
   ]
  },
  {
   "cell_type": "code",
   "execution_count": 11,
   "metadata": {},
   "outputs": [],
   "source": [
    "img_size = 32"
   ]
  },
  {
   "cell_type": "code",
   "execution_count": 12,
   "metadata": {},
   "outputs": [],
   "source": [
    "model_name = 'vgg16'\n",
    "base_model = VGG16(weights='imagenet', include_top=False,\n",
    "                   input_shape=(img_size, img_size, 3))\n",
    "last = base_model.get_layer('block4_pool').output\n",
    "x = GlobalAveragePooling2D()(last)\n",
    "x = Dense(256, activation='relu')(x)\n",
    "x = Dense(128, activation='relu')(x)\n",
    "outputs = Dense(num_classes, activation='softmax')(x)\n",
    "model = Model(inputs=base_model.inputs, outputs=outputs)\n",
    "model.trainable = True"
   ]
  },
  {
   "cell_type": "code",
   "execution_count": 13,
   "metadata": {},
   "outputs": [],
   "source": [
    "learning_rate = 1e-4\n",
    "optimizer = Adam(lr=learning_rate)\n",
    "\n",
    "model.compile(loss='categorical_crossentropy',\n",
    "              optimizer=optimizer,\n",
    "              metrics=['accuracy'])"
   ]
  },
  {
   "cell_type": "code",
   "execution_count": 14,
   "metadata": {},
   "outputs": [],
   "source": [
    "def call_list_fun(model_name, img_size):\n",
    "    model_dir = 'Model/'\n",
    "    if not os.path.exists(model_dir):\n",
    "        os.makedirs(model_dir)\n",
    "\n",
    "    modelfiles = model_dir + f'/{model_name}_{img_size}.h5'\n",
    "    \n",
    "    model_mckp = ModelCheckpoint(modelfiles,\n",
    "                                 monitor='val_accuracy',\n",
    "                                 save_best_only=True)  \n",
    "    learning_rate_function = ReduceLROnPlateau(monitor='val_loss', \n",
    "                                               patience=3, \n",
    "                                               verbose=1, \n",
    "                                               factor=0.5, \n",
    "                                               min_lr=0.00001)\n",
    "    \n",
    "    return [model_mckp, learning_rate_function]"
   ]
  },
  {
   "cell_type": "code",
   "execution_count": 15,
   "metadata": {},
   "outputs": [],
   "source": [
    "batch_size = 32\n",
    "num_epochs = 20\n",
    "callbacks_list = call_list_fun(model_name, img_size)"
   ]
  },
  {
   "cell_type": "code",
   "execution_count": 16,
   "metadata": {},
   "outputs": [
    {
     "name": "stdout",
     "output_type": "stream",
     "text": [
      "Train on 50000 samples, validate on 10000 samples\n",
      "Epoch 1/20\n",
      "50000/50000 [==============================] - 26s 517us/sample - loss: 0.8520 - accuracy: 0.7043 - val_loss: 0.6015 - val_accuracy: 0.7958\n",
      "Epoch 2/20\n",
      "50000/50000 [==============================] - 23s 461us/sample - loss: 0.4957 - accuracy: 0.8294 - val_loss: 0.4920 - val_accuracy: 0.8308\n",
      "Epoch 3/20\n",
      "50000/50000 [==============================] - 23s 465us/sample - loss: 0.3600 - accuracy: 0.8761 - val_loss: 0.4928 - val_accuracy: 0.8377\n",
      "Epoch 4/20\n",
      "50000/50000 [==============================] - 23s 469us/sample - loss: 0.2539 - accuracy: 0.9123 - val_loss: 0.4451 - val_accuracy: 0.8519\n",
      "Epoch 5/20\n",
      "50000/50000 [==============================] - 24s 476us/sample - loss: 0.1777 - accuracy: 0.9382 - val_loss: 0.4684 - val_accuracy: 0.8545\n",
      "Epoch 6/20\n",
      "50000/50000 [==============================] - 23s 465us/sample - loss: 0.1273 - accuracy: 0.9549 - val_loss: 0.5236 - val_accuracy: 0.8594\n",
      "Epoch 7/20\n",
      "49952/50000 [============================>.] - ETA: 0s - loss: 0.0954 - accuracy: 0.9684\n",
      "Epoch 00007: ReduceLROnPlateau reducing learning rate to 4.999999873689376e-05.\n",
      "50000/50000 [==============================] - 23s 464us/sample - loss: 0.0954 - accuracy: 0.9684 - val_loss: 0.5278 - val_accuracy: 0.8617\n",
      "Epoch 8/20\n",
      "50000/50000 [==============================] - 23s 464us/sample - loss: 0.0264 - accuracy: 0.9909 - val_loss: 0.5989 - val_accuracy: 0.8705\n",
      "Epoch 9/20\n",
      "50000/50000 [==============================] - 23s 456us/sample - loss: 0.0202 - accuracy: 0.9932 - val_loss: 0.6807 - val_accuracy: 0.8675\n",
      "Epoch 10/20\n",
      "49952/50000 [============================>.] - ETA: 0s - loss: 0.0197 - accuracy: 0.9934\n",
      "Epoch 00010: ReduceLROnPlateau reducing learning rate to 2.499999936844688e-05.\n",
      "50000/50000 [==============================] - 24s 472us/sample - loss: 0.0197 - accuracy: 0.9934 - val_loss: 0.6307 - val_accuracy: 0.8716\n",
      "Epoch 11/20\n",
      "50000/50000 [==============================] - 24s 474us/sample - loss: 0.0034 - accuracy: 0.9990 - val_loss: 0.7494 - val_accuracy: 0.8843\n",
      "Epoch 12/20\n",
      "50000/50000 [==============================] - 23s 468us/sample - loss: 1.6405e-04 - accuracy: 1.0000 - val_loss: 0.8299 - val_accuracy: 0.8853\n",
      "Epoch 13/20\n",
      "49952/50000 [============================>.] - ETA: 0s - loss: 3.5039e-05 - accuracy: 1.0000\n",
      "Epoch 00013: ReduceLROnPlateau reducing learning rate to 1.249999968422344e-05.\n",
      "50000/50000 [==============================] - 23s 456us/sample - loss: 3.5008e-05 - accuracy: 1.0000 - val_loss: 0.8977 - val_accuracy: 0.8850\n",
      "Epoch 14/20\n",
      "50000/50000 [==============================] - 23s 456us/sample - loss: 1.5101e-05 - accuracy: 1.0000 - val_loss: 0.9406 - val_accuracy: 0.8853\n",
      "Epoch 15/20\n",
      "50000/50000 [==============================] - 23s 457us/sample - loss: 8.8131e-06 - accuracy: 1.0000 - val_loss: 1.0020 - val_accuracy: 0.8848\n",
      "Epoch 16/20\n",
      "49952/50000 [============================>.] - ETA: 0s - loss: 4.4069e-06 - accuracy: 1.0000\n",
      "Epoch 00016: ReduceLROnPlateau reducing learning rate to 1e-05.\n",
      "50000/50000 [==============================] - 23s 456us/sample - loss: 4.4029e-06 - accuracy: 1.0000 - val_loss: 1.0775 - val_accuracy: 0.8845\n",
      "Epoch 17/20\n",
      "50000/50000 [==============================] - 23s 464us/sample - loss: 2.0520e-06 - accuracy: 1.0000 - val_loss: 1.1422 - val_accuracy: 0.8855\n",
      "Epoch 18/20\n",
      "50000/50000 [==============================] - 23s 457us/sample - loss: 9.7811e-07 - accuracy: 1.0000 - val_loss: 1.2254 - val_accuracy: 0.8852\n",
      "Epoch 19/20\n",
      "50000/50000 [==============================] - 23s 457us/sample - loss: 4.4138e-07 - accuracy: 1.0000 - val_loss: 1.3071 - val_accuracy: 0.8847\n",
      "Epoch 20/20\n",
      "50000/50000 [==============================] - 23s 456us/sample - loss: 1.8995e-07 - accuracy: 1.0000 - val_loss: 1.3890 - val_accuracy: 0.8847\n"
     ]
    }
   ],
   "source": [
    "history = model.fit(x_train, y_train,\n",
    "                    batch_size=batch_size,\n",
    "                    epochs=num_epochs,\n",
    "                    validation_data=(x_test, y_test),\n",
    "                    callbacks=callbacks_list)"
   ]
  },
  {
   "cell_type": "markdown",
   "metadata": {
    "colab_type": "text",
    "id": "LkvF_ek87SFe"
   },
   "source": [
    "## 測試資料"
   ]
  },
  {
   "cell_type": "code",
   "execution_count": 17,
   "metadata": {},
   "outputs": [
    {
     "data": {
      "image/png": "[encoded data removed]",
      "text/plain": [
       "<Figure size 864x360 with 2 Axes>"
      ]
     },
     "metadata": {
      "needs_background": "light"
     },
     "output_type": "display_data"
    }
   ],
   "source": [
    "train_history = ['loss', 'val_loss', 'accuracy', 'val_accuracy']\n",
    "name_history = ['training_loss', 'val_loss', 'training_acc', 'val_acc']\n",
    "\n",
    "plt.figure(figsize=(12, 5))\n",
    "for eachx, eachy, i in zip(train_history, name_history, range(4)):\n",
    "    if i % 2 == 0:\n",
    "        plt.subplot(1, 2, i//2+1)\n",
    "    l_x = len(history.history[eachx])\n",
    "    plt.plot(np.arange(l_x), history.history[eachx], label=eachy)\n",
    "    plt.legend(loc='best')\n",
    "    plt.title('model '+eachy)\n",
    "plt.show()"
   ]
  },
  {
   "cell_type": "code",
   "execution_count": 18,
   "metadata": {},
   "outputs": [],
   "source": [
    "from sklearn.metrics import accuracy_score, confusion_matrix, classification_report\n",
    "\n",
    "model = load_model('./Model/vgg16_32.h5')\n",
    "y_pred = model.predict(x_test)\n",
    "y_pred = y_pred.argmax(-1)"
   ]
  },
  {
   "cell_type": "code",
   "execution_count": 19,
   "metadata": {},
   "outputs": [],
   "source": [
    "label_dict = {0:'airplane',\n",
    "              1:'automobile',\n",
    "              2:'bird',\n",
    "              3:'cat',\n",
    "              4:'deer',\n",
    "              5:'dog',\n",
    "              6:'frog',\n",
    "              7:'horse',\n",
    "              8:'ship',\n",
    "              9:'truck'}"
   ]
  },
  {
   "cell_type": "code",
   "execution_count": 20,
   "metadata": {},
   "outputs": [],
   "source": [
    "class_names = label_dict.values()"
   ]
  },
  {
   "cell_type": "code",
   "execution_count": 21,
   "metadata": {},
   "outputs": [
    {
     "name": "stdout",
     "output_type": "stream",
     "text": [
      "vgg16 Report: \n",
      "               precision    recall  f1-score   support\n",
      "\n",
      "           0       0.90      0.92      0.91      1000\n",
      "           1       0.94      0.94      0.94      1000\n",
      "           2       0.87      0.85      0.86      1000\n",
      "           3       0.75      0.76      0.75      1000\n",
      "           4       0.87      0.90      0.89      1000\n",
      "           5       0.83      0.79      0.81      1000\n",
      "           6       0.90      0.92      0.91      1000\n",
      "           7       0.92      0.91      0.91      1000\n",
      "           8       0.95      0.94      0.94      1000\n",
      "           9       0.92      0.92      0.92      1000\n",
      "\n",
      "    accuracy                           0.89     10000\n",
      "   macro avg       0.89      0.89      0.89     10000\n",
      "weighted avg       0.89      0.89      0.89     10000\n",
      "\n"
     ]
    },
    {
     "data": {
      "image/png": "[encoded data removed]",
      "text/plain": [
       "<Figure size 576x576 with 1 Axes>"
      ]
     },
     "metadata": {
      "needs_background": "light"
     },
     "output_type": "display_data"
    }
   ],
   "source": [
    "print(f\"{model_name} Report: \\n\", classification_report(test_label, y_pred))\n",
    "ACC = accuracy_score(test_label, y_pred)\n",
    "matrix = confusion_matrix(test_label, y_pred)\n",
    "\n",
    "plt.figure(figsize=(8, 8))\n",
    "sns.heatmap(matrix, annot=True, cbar=False, cmap=\"Blues\",\n",
    "            xticklabels=class_names,\n",
    "            yticklabels=class_names)\n",
    "plt.ylabel('True Label')\n",
    "plt.xlabel('Predicted Label')\n",
    "plt.title(f'{model_name} ACC:{ACC*100:.4}%')\n",
    "plt.show()"
   ]
  },
  {
   "cell_type": "markdown",
   "metadata": {},
   "source": [
    "# keras to onnx"
   ]
  },
  {
   "cell_type": "code",
   "execution_count": null,
   "metadata": {},
   "outputs": [],
   "source": [
    "!pip install -q onnx onnxmltools"
   ]
  },
  {
   "cell_type": "code",
   "execution_count": 22,
   "metadata": {},
   "outputs": [],
   "source": [
    "import onnx\n",
    "import onnxmltools\n",
    "from tensorflow.keras.models import load_model"
   ]
  },
  {
   "cell_type": "code",
   "execution_count": 27,
   "metadata": {},
   "outputs": [
    {
     "name": "stderr",
     "output_type": "stream",
     "text": [
      "tf executing eager_mode: True\n",
      "tf.keras model eager_mode: False\n",
      "The ONNX operator number change on the optimization: 74 -> 37\n"
     ]
    }
   ],
   "source": [
    "keras_path = 'Model/vgg16_32.h5'\n",
    "onnx_path = 'vgg16_32.onnx'\n",
    "keras_model = load_model(keras_path)\n",
    "onnx_model = onnxmltools.convert_keras(keras_model)"
   ]
  },
  {
   "cell_type": "code",
   "execution_count": 28,
   "metadata": {},
   "outputs": [],
   "source": [
    "onnx_model.graph.input[0].type.tensor_type.shape.dim[0].dim_value = 1\n",
    "onnx_model.graph.output[0].type.tensor_type.shape.dim[0].dim_value = 1"
   ]
  },
  {
   "cell_type": "code",
   "execution_count": 29,
   "metadata": {},
   "outputs": [],
   "source": [
    "onnx.checker.check_model(onnx_model)\n",
    "onnx.save(onnx_model, onnx_path)"
   ]
  },
  {
   "cell_type": "code",
   "execution_count": null,
   "metadata": {},
   "outputs": [],
   "source": []
  }
 ],
 "metadata": {
  "accelerator": "GPU",
  "colab": {
   "collapsed_sections": [],
   "name": "ex0_CNN_practice_simple.ipynb",
   "provenance": [
    {
     "file_id": "1Bfjl8PKirjCR_zs468NOWec8dfGUNdGN",
     "timestamp": 1553099246392
    }
   ],
   "version": "0.3.2"
  },
  "kernelspec": {
   "display_name": "Python 3",
   "language": "python",
   "name": "python3"
  },
  "language_info": {
   "codemirror_mode": {
    "name": "ipython",
    "version": 3
   },
   "file_extension": ".py",
   "mimetype": "text/x-python",
   "name": "python",
   "nbconvert_exporter": "python",
   "pygments_lexer": "ipython3",
   "version": "3.7.6"
  }
 },
 "nbformat": 4,
 "nbformat_minor": 4
}
